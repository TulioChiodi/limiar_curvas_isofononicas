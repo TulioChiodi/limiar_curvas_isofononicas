{
 "cells": [
  {
   "cell_type": "code",
   "execution_count": 128,
   "metadata": {},
   "outputs": [],
   "source": [
    "import scipy.io as sio\n",
    "import numpy as np\n",
    "import os \n",
    "import glob\n",
    "import numpy\n",
    "import pandas as pd\n",
    "import statistics as st\n",
    "import matplotlib.pyplot as plt\n",
    "from matplotlib.pyplot import figure\n",
    "from pathlib import Path"
   ]
  },
  {
   "cell_type": "code",
   "execution_count": 2,
   "metadata": {},
   "outputs": [],
   "source": [
    "#nomes = os.listdir('./GERALZAO')\n",
    "path = Path('./GERALZAO')\n",
    "path_names = list(path.glob('*.mat'))\n",
    "nomes = [path_names[k].name.split('_')[1] for k in range(len(path_names))]"
   ]
  },
  {
   "cell_type": "code",
   "execution_count": 40,
   "metadata": {},
   "outputs": [
    {
     "data": {
      "text/plain": [
       "['stefanp',\n",
       " 'Guto',\n",
       " 'Bruno',\n",
       " 'viviane',\n",
       " 'Guilherme',\n",
       " 'Lucas',\n",
       " 'yann',\n",
       " 'Geovane',\n",
       " 'Jota',\n",
       " 'fredzera',\n",
       " 'Erick',\n",
       " 'Giuliano',\n",
       " 'RaulBierlmeier',\n",
       " 'Alice',\n",
       " 'Jonas',\n",
       " 'William',\n",
       " 'Tulio']"
      ]
     },
     "execution_count": 40,
     "metadata": {},
     "output_type": "execute_result"
    }
   ],
   "source": [
    "nomes"
   ]
  },
  {
   "cell_type": "code",
   "execution_count": 106,
   "metadata": {},
   "outputs": [],
   "source": [
    "mat_contents = [sio.loadmat(j) for j in path_names]    \n",
    "\n",
    "time = []\n",
    "time_delay = []\n",
    "pressure = []\n",
    "pressure_delay = []\n",
    "for j in range(len(mat_contents)):\n",
    "    freq_range = range(mat_contents[j]['Banda'].shape[1])\n",
    "    time.append([mat_contents[j][\"Banda\"][0,i][0][0,0][0][0,0]+(mat_contents[j][\"Banda\"][0,i][0][0,0][1][1,0])/2 for i in freq_range])\n",
    "    time_delay.append([mat_contents[j][\"Banda\"][0,i][0][0,0][0][0,0] for i in freq_range])\n",
    "    pressure.append([(mat_contents[j][\"Banda\"][0,i][0][0,0][0][0,1]+(mat_contents[j][\"Banda\"][0,i][0][0,0][1][1,1]))/2 for i in freq_range])\n",
    "    pressure_delay.append([(mat_contents[j][\"Banda\"][0,i][0][0,0][1][1,0])/2 for i in freq_range])"
   ]
  },
  {
   "cell_type": "code",
   "execution_count": 110,
   "metadata": {},
   "outputs": [
    {
     "name": "stdout",
     "output_type": "stream",
     "text": [
      "Size from the lists: time: 17, time delay: 17, pressure: 17, pressure delay: 17.\n"
     ]
    }
   ],
   "source": [
    "print(f\"Size from the lists: time: {len(time)}, time delay: {len(time_delay)}, pressure: {len(pressure)}, pressure delay: {len(pressure_delay)}.\")"
   ]
  },
  {
   "cell_type": "code",
   "execution_count": 97,
   "metadata": {},
   "outputs": [
    {
     "data": {
      "text/plain": [
       "[26.901991475,\n",
       " 23.77799917,\n",
       " 24.58198797,\n",
       " 20.744501245000002,\n",
       " 20.228501225000002,\n",
       " 13.64450455,\n",
       " 23.2205037]"
      ]
     },
     "execution_count": 97,
     "metadata": {},
     "output_type": "execute_result"
    }
   ],
   "source": [
    "time[0]"
   ]
  },
  {
   "cell_type": "code",
   "execution_count": 98,
   "metadata": {},
   "outputs": [],
   "source": [
    "df = pd.DataFrame(time)\n",
    "#    time = {  }\n",
    "#data = {'Pessoa1': [valor1,valor2,valor3...]}\n",
    "#df.DataFrame(data, columns =['Pessoa1','Pessoa2',...])\n"
   ]
  },
  {
   "cell_type": "code",
   "execution_count": 99,
   "metadata": {},
   "outputs": [
    {
     "data": {
      "text/plain": [
       "(17, 7)"
      ]
     },
     "execution_count": 99,
     "metadata": {},
     "output_type": "execute_result"
    }
   ],
   "source": [
    "df.shape"
   ]
  },
  {
   "cell_type": "code",
   "execution_count": 100,
   "metadata": {},
   "outputs": [],
   "source": [
    "df_AudLim = df.transpose()"
   ]
  },
  {
   "cell_type": "code",
   "execution_count": 101,
   "metadata": {},
   "outputs": [
    {
     "data": {
      "text/plain": [
       "(7, 17)"
      ]
     },
     "execution_count": 101,
     "metadata": {},
     "output_type": "execute_result"
    }
   ],
   "source": [
    "df_AudLim.shape"
   ]
  },
  {
   "cell_type": "code",
   "execution_count": 102,
   "metadata": {},
   "outputs": [],
   "source": [
    "freq_terc_oitava = ['125Hz','250Hz','500Hz','1kHz','2kHz','4kHz','8kHz']"
   ]
  },
  {
   "cell_type": "code",
   "execution_count": 103,
   "metadata": {},
   "outputs": [],
   "source": [
    "df_AudLim.columns = nomes\n",
    "df_AudLim.index = freq_terc_oitava"
   ]
  },
  {
   "cell_type": "code",
   "execution_count": 104,
   "metadata": {},
   "outputs": [
    {
     "data": {
      "text/html": [
       "<div>\n",
       "<style scoped>\n",
       "    .dataframe tbody tr th:only-of-type {\n",
       "        vertical-align: middle;\n",
       "    }\n",
       "\n",
       "    .dataframe tbody tr th {\n",
       "        vertical-align: top;\n",
       "    }\n",
       "\n",
       "    .dataframe thead th {\n",
       "        text-align: right;\n",
       "    }\n",
       "</style>\n",
       "<table border=\"1\" class=\"dataframe\">\n",
       "  <thead>\n",
       "    <tr style=\"text-align: right;\">\n",
       "      <th></th>\n",
       "      <th>stefanp</th>\n",
       "      <th>Guto</th>\n",
       "      <th>Bruno</th>\n",
       "      <th>viviane</th>\n",
       "      <th>Guilherme</th>\n",
       "      <th>Lucas</th>\n",
       "      <th>yann</th>\n",
       "      <th>Geovane</th>\n",
       "      <th>Jota</th>\n",
       "      <th>fredzera</th>\n",
       "      <th>Erick</th>\n",
       "      <th>Giuliano</th>\n",
       "      <th>RaulBierlmeier</th>\n",
       "      <th>Alice</th>\n",
       "      <th>Jonas</th>\n",
       "      <th>William</th>\n",
       "      <th>Tulio</th>\n",
       "    </tr>\n",
       "  </thead>\n",
       "  <tbody>\n",
       "    <tr>\n",
       "      <td>125Hz</td>\n",
       "      <td>26.901991</td>\n",
       "      <td>28.307501</td>\n",
       "      <td>30.156505</td>\n",
       "      <td>38.866496</td>\n",
       "      <td>29.433496</td>\n",
       "      <td>27.461006</td>\n",
       "      <td>29.079997</td>\n",
       "      <td>27.335493</td>\n",
       "      <td>29.158507</td>\n",
       "      <td>26.403000</td>\n",
       "      <td>33.158495</td>\n",
       "      <td>28.450002</td>\n",
       "      <td>34.670497</td>\n",
       "      <td>2.912009</td>\n",
       "      <td>27.216504</td>\n",
       "      <td>31.969003</td>\n",
       "      <td>33.780495</td>\n",
       "    </tr>\n",
       "    <tr>\n",
       "      <td>250Hz</td>\n",
       "      <td>23.777999</td>\n",
       "      <td>27.361011</td>\n",
       "      <td>26.618494</td>\n",
       "      <td>20.890502</td>\n",
       "      <td>27.204499</td>\n",
       "      <td>26.319003</td>\n",
       "      <td>26.128002</td>\n",
       "      <td>24.290504</td>\n",
       "      <td>27.450002</td>\n",
       "      <td>28.543006</td>\n",
       "      <td>26.384493</td>\n",
       "      <td>26.201000</td>\n",
       "      <td>25.383492</td>\n",
       "      <td>30.322502</td>\n",
       "      <td>23.480002</td>\n",
       "      <td>33.690996</td>\n",
       "      <td>31.953503</td>\n",
       "    </tr>\n",
       "    <tr>\n",
       "      <td>500Hz</td>\n",
       "      <td>24.581988</td>\n",
       "      <td>24.797497</td>\n",
       "      <td>22.940999</td>\n",
       "      <td>28.646500</td>\n",
       "      <td>27.909495</td>\n",
       "      <td>22.730499</td>\n",
       "      <td>22.959496</td>\n",
       "      <td>21.911504</td>\n",
       "      <td>23.760493</td>\n",
       "      <td>26.176000</td>\n",
       "      <td>23.814496</td>\n",
       "      <td>25.837498</td>\n",
       "      <td>30.070497</td>\n",
       "      <td>23.803502</td>\n",
       "      <td>26.778003</td>\n",
       "      <td>25.272992</td>\n",
       "      <td>28.854003</td>\n",
       "    </tr>\n",
       "    <tr>\n",
       "      <td>1kHz</td>\n",
       "      <td>20.744501</td>\n",
       "      <td>22.661997</td>\n",
       "      <td>19.708996</td>\n",
       "      <td>20.566002</td>\n",
       "      <td>21.956001</td>\n",
       "      <td>20.631496</td>\n",
       "      <td>20.855002</td>\n",
       "      <td>20.778005</td>\n",
       "      <td>20.400498</td>\n",
       "      <td>22.028502</td>\n",
       "      <td>20.299503</td>\n",
       "      <td>21.633000</td>\n",
       "      <td>21.977003</td>\n",
       "      <td>20.792007</td>\n",
       "      <td>20.681501</td>\n",
       "      <td>22.198502</td>\n",
       "      <td>23.058500</td>\n",
       "    </tr>\n",
       "    <tr>\n",
       "      <td>2kHz</td>\n",
       "      <td>20.228501</td>\n",
       "      <td>17.351998</td>\n",
       "      <td>16.990503</td>\n",
       "      <td>16.928001</td>\n",
       "      <td>18.483002</td>\n",
       "      <td>16.943501</td>\n",
       "      <td>20.992005</td>\n",
       "      <td>17.019501</td>\n",
       "      <td>17.187998</td>\n",
       "      <td>16.057995</td>\n",
       "      <td>25.192003</td>\n",
       "      <td>19.723007</td>\n",
       "      <td>20.663004</td>\n",
       "      <td>18.362509</td>\n",
       "      <td>17.978000</td>\n",
       "      <td>20.232002</td>\n",
       "      <td>22.150498</td>\n",
       "    </tr>\n",
       "    <tr>\n",
       "      <td>4kHz</td>\n",
       "      <td>13.644505</td>\n",
       "      <td>11.844499</td>\n",
       "      <td>12.587998</td>\n",
       "      <td>11.661992</td>\n",
       "      <td>12.470497</td>\n",
       "      <td>8.219006</td>\n",
       "      <td>11.670994</td>\n",
       "      <td>12.299501</td>\n",
       "      <td>10.469995</td>\n",
       "      <td>9.717504</td>\n",
       "      <td>22.331512</td>\n",
       "      <td>14.975497</td>\n",
       "      <td>13.032000</td>\n",
       "      <td>10.695501</td>\n",
       "      <td>13.846998</td>\n",
       "      <td>14.264507</td>\n",
       "      <td>15.294496</td>\n",
       "    </tr>\n",
       "    <tr>\n",
       "      <td>8kHz</td>\n",
       "      <td>23.220504</td>\n",
       "      <td>9.036503</td>\n",
       "      <td>8.351006</td>\n",
       "      <td>11.528503</td>\n",
       "      <td>7.757497</td>\n",
       "      <td>7.699998</td>\n",
       "      <td>14.633998</td>\n",
       "      <td>11.665995</td>\n",
       "      <td>9.555505</td>\n",
       "      <td>7.253994</td>\n",
       "      <td>22.545995</td>\n",
       "      <td>13.983992</td>\n",
       "      <td>8.829498</td>\n",
       "      <td>11.767498</td>\n",
       "      <td>18.121004</td>\n",
       "      <td>16.600493</td>\n",
       "      <td>15.754999</td>\n",
       "    </tr>\n",
       "  </tbody>\n",
       "</table>\n",
       "</div>"
      ],
      "text/plain": [
       "         stefanp       Guto      Bruno    viviane  Guilherme      Lucas  \\\n",
       "125Hz  26.901991  28.307501  30.156505  38.866496  29.433496  27.461006   \n",
       "250Hz  23.777999  27.361011  26.618494  20.890502  27.204499  26.319003   \n",
       "500Hz  24.581988  24.797497  22.940999  28.646500  27.909495  22.730499   \n",
       "1kHz   20.744501  22.661997  19.708996  20.566002  21.956001  20.631496   \n",
       "2kHz   20.228501  17.351998  16.990503  16.928001  18.483002  16.943501   \n",
       "4kHz   13.644505  11.844499  12.587998  11.661992  12.470497   8.219006   \n",
       "8kHz   23.220504   9.036503   8.351006  11.528503   7.757497   7.699998   \n",
       "\n",
       "            yann    Geovane       Jota   fredzera      Erick   Giuliano  \\\n",
       "125Hz  29.079997  27.335493  29.158507  26.403000  33.158495  28.450002   \n",
       "250Hz  26.128002  24.290504  27.450002  28.543006  26.384493  26.201000   \n",
       "500Hz  22.959496  21.911504  23.760493  26.176000  23.814496  25.837498   \n",
       "1kHz   20.855002  20.778005  20.400498  22.028502  20.299503  21.633000   \n",
       "2kHz   20.992005  17.019501  17.187998  16.057995  25.192003  19.723007   \n",
       "4kHz   11.670994  12.299501  10.469995   9.717504  22.331512  14.975497   \n",
       "8kHz   14.633998  11.665995   9.555505   7.253994  22.545995  13.983992   \n",
       "\n",
       "       RaulBierlmeier      Alice      Jonas    William      Tulio  \n",
       "125Hz       34.670497   2.912009  27.216504  31.969003  33.780495  \n",
       "250Hz       25.383492  30.322502  23.480002  33.690996  31.953503  \n",
       "500Hz       30.070497  23.803502  26.778003  25.272992  28.854003  \n",
       "1kHz        21.977003  20.792007  20.681501  22.198502  23.058500  \n",
       "2kHz        20.663004  18.362509  17.978000  20.232002  22.150498  \n",
       "4kHz        13.032000  10.695501  13.846998  14.264507  15.294496  \n",
       "8kHz         8.829498  11.767498  18.121004  16.600493  15.754999  "
      ]
     },
     "execution_count": 104,
     "metadata": {},
     "output_type": "execute_result"
    }
   ],
   "source": [
    "df_AudLim"
   ]
  },
  {
   "cell_type": "code",
   "execution_count": 137,
   "metadata": {},
   "outputs": [
    {
     "data": {
      "text/plain": [
       "7"
      ]
     },
     "execution_count": 137,
     "metadata": {},
     "output_type": "execute_result"
    }
   ],
   "source": [
    "len(freq)"
   ]
  },
  {
   "cell_type": "code",
   "execution_count": 134,
   "metadata": {},
   "outputs": [],
   "source": [
    "freq = [df_AudLim.loc[i].sort_values() for i in freq_terc_oitava]"
   ]
  },
  {
   "cell_type": "code",
   "execution_count": 144,
   "metadata": {},
   "outputs": [
    {
     "data": {
      "text/plain": [
       "[<matplotlib.lines.Line2D at 0x7f2e91126a90>]"
      ]
     },
     "execution_count": 144,
     "metadata": {},
     "output_type": "execute_result"
    },
    {
     "data": {
      "image/png": "[encoded data removed]",
      "text/plain": [
       "<Figure size 1440x576 with 1 Axes>"
      ]
     },
     "metadata": {
      "needs_background": "light"
     },
     "output_type": "display_data"
    }
   ],
   "source": [
    "index_freq = 6\n",
    "figure(figsize=(20,8))\n",
    "plt.plot(freq[index_freq])"
   ]
  },
  {
   "cell_type": "code",
   "execution_count": 117,
   "metadata": {},
   "outputs": [
    {
     "data": {
      "text/plain": [
       "7.404933625970344"
      ]
     },
     "execution_count": 117,
     "metadata": {},
     "output_type": "execute_result"
    }
   ],
   "source": [
    "st.stdev(df_AudLim.loc['125Hz'])"
   ]
  },
  {
   "cell_type": "code",
   "execution_count": 118,
   "metadata": {},
   "outputs": [
    {
     "data": {
      "text/plain": [
       "3.11257964739545"
      ]
     },
     "execution_count": 118,
     "metadata": {},
     "output_type": "execute_result"
    }
   ],
   "source": [
    "st.stdev(df_AudLim.loc['250Hz'])"
   ]
  },
  {
   "cell_type": "code",
   "execution_count": 119,
   "metadata": {},
   "outputs": [
    {
     "data": {
      "text/plain": [
       "2.415022776621485"
      ]
     },
     "execution_count": 119,
     "metadata": {},
     "output_type": "execute_result"
    }
   ],
   "source": [
    "st.stdev(df_AudLim.loc['500Hz'])"
   ]
  },
  {
   "cell_type": "code",
   "execution_count": null,
   "metadata": {},
   "outputs": [],
   "source": []
  }
 ],
 "metadata": {
  "kernelspec": {
   "display_name": "Python 3",
   "language": "python",
   "name": "python3"
  },
  "language_info": {
   "codemirror_mode": {
    "name": "ipython",
    "version": 3
   },
   "file_extension": ".py",
   "mimetype": "text/x-python",
   "name": "python",
   "nbconvert_exporter": "python",
   "pygments_lexer": "ipython3",
   "version": "3.7.4"
  }
 },
 "nbformat": 4,
 "nbformat_minor": 4
}
